{
  "nbformat": 4,
  "nbformat_minor": 0,
  "metadata": {
    "colab": {
      "name": "Minor 2_1.ipynb",
      "provenance": [],
      "collapsed_sections": []
    },
    "kernelspec": {
      "name": "python3",
      "display_name": "Python 3"
    }
  },
  "cells": [
    {
      "cell_type": "markdown",
      "metadata": {
        "id": "_gGWX2irE5_a",
        "colab_type": "text"
      },
      "source": [
        "### **Unsuccessful Attempt**\n",
        "### **2 Codes Simultaneously**"
      ]
    },
    {
      "cell_type": "code",
      "metadata": {
        "id": "RT8euL1hTQ7H",
        "colab_type": "code",
        "colab": {}
      },
      "source": [
        "import cv2\n",
        "import math\n",
        "import matplotlib.pyplot as plt\n",
        "import pandas as pd\n",
        "%matplotlib inline\n",
        "from keras.preprocessing import image\n",
        "import numpy as np\n",
        "from skimage.transform import resize"
      ],
      "execution_count": null,
      "outputs": []
    },
    {
      "cell_type": "code",
      "metadata": {
        "id": "VSlUSElcTRdR",
        "colab_type": "code",
        "colab": {
          "base_uri": "https://localhost:8080/",
          "height": 34
        },
        "outputId": "8e55877d-25d3-4e0d-b440-f53a7fe8fcfe"
      },
      "source": [
        "count = 0\n",
        "videoFile = \"Tom and jerry.mp4\"\n",
        "cap = cv2.VideoCapture(videoFile)\n",
        "frameRate = cap.get(5)\n",
        "x=1\n",
        "while(cap.isOpened()):\n",
        "    frameId = cap.get(1)\n",
        "    ret, frame = cap.read()\n",
        "    if (ret != True):\n",
        "        break\n",
        "    if (frameId % math.floor(frameRate) == 0):\n",
        "        filename =\"frame%d.jpg\" % count;count+=1\n",
        "        cv2.imwrite(filename, frame)\n",
        "cap.release()\n",
        "print (\"Sample Frames Done!\")"
      ],
      "execution_count": null,
      "outputs": [
        {
          "output_type": "stream",
          "text": [
            "Sample Frames Done!\n"
          ],
          "name": "stdout"
        }
      ]
    },
    {
      "cell_type": "code",
      "metadata": {
        "id": "tx2Ph_2BVKlU",
        "colab_type": "code",
        "colab": {
          "base_uri": "https://localhost:8080/",
          "height": 34
        },
        "outputId": "8080377f-f916-40bc-a638-e268a220bcdb"
      },
      "source": [
        "count = 0\n",
        "videoFile = \"Tom and Jerry 3.mp4\"\n",
        "cap = cv2.VideoCapture(videoFile)\n",
        "frameRate = cap.get(5)\n",
        "x=1\n",
        "while(cap.isOpened()):\n",
        "    frameId = cap.get(1)\n",
        "    ret, frame = cap.read()\n",
        "    if (ret != True):\n",
        "        break\n",
        "    if (frameId % math.floor(frameRate) == 0):\n",
        "        filename =\"test%d.jpg\" % count;count+=1\n",
        "        cv2.imwrite(filename, frame)\n",
        "cap.release()\n",
        "print (\"Sample Tests Done!\")"
      ],
      "execution_count": null,
      "outputs": [
        {
          "output_type": "stream",
          "text": [
            "Sample Tests Done!\n"
          ],
          "name": "stdout"
        }
      ]
    },
    {
      "cell_type": "code",
      "metadata": {
        "id": "vALr6AbQWJp8",
        "colab_type": "code",
        "colab": {}
      },
      "source": [
        "data = pd.read_csv('vid1.csv')\n",
        "test = pd.read_csv('vid2.csv')"
      ],
      "execution_count": null,
      "outputs": []
    },
    {
      "cell_type": "code",
      "metadata": {
        "id": "LcNe-YIYWSay",
        "colab_type": "code",
        "colab": {}
      },
      "source": [
        "X = []\n",
        "for img_name in data.Image_ID:\n",
        "    img = plt.imread('' + img_name)\n",
        "    X.append(img)\n",
        "X = np.array(X)"
      ],
      "execution_count": null,
      "outputs": []
    },
    {
      "cell_type": "code",
      "metadata": {
        "id": "N4iqBTo8iERg",
        "colab_type": "code",
        "colab": {}
      },
      "source": [
        "Y = []\n",
        "for img_name in data.Image_ID:\n",
        "    img = plt.imread('' + img_name)\n",
        "    Y.append(img)\n",
        "Y = np.array(Y)"
      ],
      "execution_count": null,
      "outputs": []
    },
    {
      "cell_type": "code",
      "metadata": {
        "id": "g78tGvLKWUVB",
        "colab_type": "code",
        "colab": {}
      },
      "source": [
        "test_image = []\n",
        "for img_name in test.Image_ID:\n",
        "    img = plt.imread('' + img_name)\n",
        "    test_image.append(img)\n",
        "test_img = np.array(test_image)"
      ],
      "execution_count": null,
      "outputs": []
    },
    {
      "cell_type": "code",
      "metadata": {
        "id": "-inN8T--iKAl",
        "colab_type": "code",
        "colab": {}
      },
      "source": [
        "test_image1 = []\n",
        "for img_name in test.Image_ID:\n",
        "    img = plt.imread('' + img_name)\n",
        "    test_image1.append(img)\n",
        "test_img1 = np.array(test_image1)"
      ],
      "execution_count": null,
      "outputs": []
    },
    {
      "cell_type": "code",
      "metadata": {
        "id": "KfFTX1CuW6ee",
        "colab_type": "code",
        "colab": {}
      },
      "source": [
        "from keras.utils import np_utils\n",
        "train_y = np_utils.to_categorical(data.Class)\n",
        "test_y = np_utils.to_categorical(test.Class)\n",
        "train_b = np_utils.to_categorical(data.Class)\n",
        "test_b = np_utils.to_categorical(test.Class)"
      ],
      "execution_count": null,
      "outputs": []
    },
    {
      "cell_type": "code",
      "metadata": {
        "id": "nadAWsIOXCfs",
        "colab_type": "code",
        "colab": {}
      },
      "source": [
        "image = []\n",
        "for i in range(0,X.shape[0]):\n",
        "    a = resize(X[i], preserve_range=True, output_shape=(224,224,3)).astype(int)\n",
        "    image.append(a)\n",
        "X = np.array(image)"
      ],
      "execution_count": null,
      "outputs": []
    },
    {
      "cell_type": "code",
      "metadata": {
        "id": "D0CmiwkPiQeG",
        "colab_type": "code",
        "colab": {}
      },
      "source": [
        "image1 = []\n",
        "for i in range(0,Y.shape[0]):\n",
        "    a = resize(Y[i], preserve_range=True, output_shape=(224,224,3)).astype(int)\n",
        "    image1.append(a)\n",
        "Y = np.array(image1)"
      ],
      "execution_count": null,
      "outputs": []
    },
    {
      "cell_type": "code",
      "metadata": {
        "id": "9ywh6wVHXQiS",
        "colab_type": "code",
        "colab": {}
      },
      "source": [
        "test_image = []\n",
        "for i in range(0,test_img.shape[0]):\n",
        "    a = resize(test_img[i], preserve_range=True, output_shape=(224,224)).astype(int)\n",
        "    test_image.append(a)\n",
        "test_image = np.array(test_image)"
      ],
      "execution_count": null,
      "outputs": []
    },
    {
      "cell_type": "code",
      "metadata": {
        "id": "htjnj-P8iYkQ",
        "colab_type": "code",
        "colab": {}
      },
      "source": [
        "test_image1 = []\n",
        "for i in range(0,test_img1.shape[0]):\n",
        "    a = resize(test_img1[i], preserve_range=True, output_shape=(224,224)).astype(int)\n",
        "    test_image1.append(a)\n",
        "test_image1 = np.array(test_image1)"
      ],
      "execution_count": null,
      "outputs": []
    },
    {
      "cell_type": "code",
      "metadata": {
        "id": "rKoyWHDPXx7-",
        "colab_type": "code",
        "colab": {}
      },
      "source": [
        "from keras.applications.vgg16 import preprocess_input\n",
        "X = preprocess_input(X, mode='tf')\n",
        "test_image = preprocess_input(test_image, mode='tf')"
      ],
      "execution_count": null,
      "outputs": []
    },
    {
      "cell_type": "code",
      "metadata": {
        "id": "wn7Z1eOaixQ3",
        "colab_type": "code",
        "colab": {}
      },
      "source": [
        "Y = preprocess_input(Y, mode='tf')\n",
        "test_image1 = preprocess_input(test_image1, mode='tf')"
      ],
      "execution_count": null,
      "outputs": []
    },
    {
      "cell_type": "code",
      "metadata": {
        "id": "atHfTBd4YXBI",
        "colab_type": "code",
        "colab": {}
      },
      "source": [
        "from sklearn.model_selection import train_test_split\n",
        "X_train, X_valid, y_train, y_valid = train_test_split(X, train_y, test_size=0.3, random_state=42)\n",
        "A_train, A_valid, b_train, b_valid = train_test_split(Y, train_b, test_size=0.2, random_state=38)"
      ],
      "execution_count": null,
      "outputs": []
    },
    {
      "cell_type": "code",
      "metadata": {
        "id": "5rAVBnyfYrc4",
        "colab_type": "code",
        "colab": {}
      },
      "source": [
        "from keras.models import Sequential\n",
        "from keras.applications.vgg16 import VGG16\n",
        "from keras.layers import Dense, InputLayer, Dropout"
      ],
      "execution_count": null,
      "outputs": []
    },
    {
      "cell_type": "code",
      "metadata": {
        "id": "COs4oZJcZJnt",
        "colab_type": "code",
        "colab": {}
      },
      "source": [
        "base_model = VGG16(weights='imagenet', include_top=False, input_shape=(224, 224, 3))"
      ],
      "execution_count": null,
      "outputs": []
    },
    {
      "cell_type": "code",
      "metadata": {
        "id": "au0ijKRgZTq5",
        "colab_type": "code",
        "colab": {}
      },
      "source": [
        "X_train = base_model.predict(X_train)\n",
        "X_valid = base_model.predict(X_valid)\n",
        "test_image = base_model.predict(test_image)"
      ],
      "execution_count": null,
      "outputs": []
    },
    {
      "cell_type": "code",
      "metadata": {
        "id": "a57aA6W-i4Lu",
        "colab_type": "code",
        "colab": {}
      },
      "source": [
        "A_train = base_model.predict(A_train)\n",
        "A_valid = base_model.predict(A_valid)\n",
        "test_image1 = base_model.predict(test_image1)"
      ],
      "execution_count": null,
      "outputs": []
    },
    {
      "cell_type": "code",
      "metadata": {
        "id": "p8Lh1TeJcQiA",
        "colab_type": "code",
        "colab": {}
      },
      "source": [
        "X_train = X_train.reshape(208, 7*7*512)\n",
        "X_valid = X_valid.reshape(90, 7*7*512)\n",
        "test_image = test_image.reshape(186, 7*7*512)"
      ],
      "execution_count": null,
      "outputs": []
    },
    {
      "cell_type": "code",
      "metadata": {
        "id": "QsgRDapKi-7u",
        "colab_type": "code",
        "colab": {}
      },
      "source": [
        "A_train = A_train.reshape(238, 7*7*512)\n",
        "A_valid = A_valid.reshape(60, 7*7*512)\n",
        "test_image1 = test_image1.reshape(186, 7*7*512)"
      ],
      "execution_count": null,
      "outputs": []
    },
    {
      "cell_type": "code",
      "metadata": {
        "id": "wame0uoicc5x",
        "colab_type": "code",
        "colab": {}
      },
      "source": [
        "train = X_train/X_train.max()\n",
        "X_valid = X_valid/X_train.max()\n",
        "test_image = test_image/test_image.max()"
      ],
      "execution_count": null,
      "outputs": []
    },
    {
      "cell_type": "code",
      "metadata": {
        "id": "Md6blFU2jAoQ",
        "colab_type": "code",
        "colab": {}
      },
      "source": [
        "train1 = A_train/A_train.max()\n",
        "A_valid = A_valid/A_train.max()\n",
        "test_image1 = test_image1/test_image1.max()"
      ],
      "execution_count": null,
      "outputs": []
    },
    {
      "cell_type": "code",
      "metadata": {
        "id": "cceuyLfPdBJU",
        "colab_type": "code",
        "colab": {}
      },
      "source": [
        "model = Sequential()\n",
        "model.add(InputLayer((7*7*512,)))\n",
        "model.add(Dense(units=1024, activation='sigmoid'))\n",
        "model.add(Dropout(0.5))\n",
        "model.add(Dense(units=512, activation='sigmoid'))\n",
        "model.add(Dropout(0.5))\n",
        "model.add(Dense(units=256, activation='sigmoid'))\n",
        "model.add(Dropout(0.5))\n",
        "model.add(Dense(3, activation='softmax'))"
      ],
      "execution_count": null,
      "outputs": []
    },
    {
      "cell_type": "code",
      "metadata": {
        "id": "l-ZGgoJUdE9P",
        "colab_type": "code",
        "colab": {}
      },
      "source": [
        "model.compile(loss='categorical_crossentropy', optimizer='adam', metrics=['accuracy'])"
      ],
      "execution_count": null,
      "outputs": []
    },
    {
      "cell_type": "code",
      "metadata": {
        "id": "pt1f74A6dHL6",
        "colab_type": "code",
        "colab": {}
      },
      "source": [
        "from sklearn.utils.class_weight import compute_class_weight, compute_sample_weight\n",
        "class_weights = compute_class_weight('balanced',np.unique(data.Class), data.Class)"
      ],
      "execution_count": null,
      "outputs": []
    },
    {
      "cell_type": "code",
      "metadata": {
        "id": "Lyk1dFVbdLjJ",
        "colab_type": "code",
        "colab": {}
      },
      "source": [
        "from keras.callbacks import ModelCheckpoint\n",
        "filepath=\"weights.best.hdf5\"\n",
        "checkpoint = ModelCheckpoint(filepath, monitor='val_loss', verbose=1, save_best_only=True, mode='min')\n",
        "callbacks_list = [checkpoint]"
      ],
      "execution_count": null,
      "outputs": []
    },
    {
      "cell_type": "code",
      "metadata": {
        "id": "wQ9vG_1tdPWg",
        "colab_type": "code",
        "colab": {
          "base_uri": "https://localhost:8080/",
          "height": 1000
        },
        "outputId": "0d939ea4-156f-4a83-dcbe-49b84c300a3c"
      },
      "source": [
        "history = model.fit(train, y_train, epochs=100, validation_data=(X_valid, y_valid), class_weight=class_weights, callbacks=callbacks_list)"
      ],
      "execution_count": null,
      "outputs": [
        {
          "output_type": "stream",
          "text": [
            "Train on 208 samples, validate on 90 samples\n",
            "Epoch 1/100\n",
            "208/208 [==============================] - 2s 12ms/step - loss: 1.3559 - accuracy: 0.3558 - val_loss: 1.0592 - val_accuracy: 0.3667\n",
            "\n",
            "Epoch 00001: val_loss improved from inf to 1.05924, saving model to weights.best.hdf5\n",
            "Epoch 2/100\n",
            "208/208 [==============================] - 2s 11ms/step - loss: 1.1674 - accuracy: 0.3702 - val_loss: 1.0632 - val_accuracy: 0.3889\n",
            "\n",
            "Epoch 00002: val_loss did not improve from 1.05924\n",
            "Epoch 3/100\n",
            "208/208 [==============================] - 2s 11ms/step - loss: 1.1849 - accuracy: 0.3894 - val_loss: 1.0005 - val_accuracy: 0.5444\n",
            "\n",
            "Epoch 00003: val_loss improved from 1.05924 to 1.00048, saving model to weights.best.hdf5\n",
            "Epoch 4/100\n",
            "208/208 [==============================] - 2s 11ms/step - loss: 1.0639 - accuracy: 0.4567 - val_loss: 0.9368 - val_accuracy: 0.6111\n",
            "\n",
            "Epoch 00004: val_loss improved from 1.00048 to 0.93678, saving model to weights.best.hdf5\n",
            "Epoch 5/100\n",
            "208/208 [==============================] - 2s 11ms/step - loss: 0.9823 - accuracy: 0.5481 - val_loss: 0.8681 - val_accuracy: 0.5556\n",
            "\n",
            "Epoch 00005: val_loss improved from 0.93678 to 0.86808, saving model to weights.best.hdf5\n",
            "Epoch 6/100\n",
            "208/208 [==============================] - 2s 11ms/step - loss: 0.8345 - accuracy: 0.6346 - val_loss: 0.7744 - val_accuracy: 0.6889\n",
            "\n",
            "Epoch 00006: val_loss improved from 0.86808 to 0.77438, saving model to weights.best.hdf5\n",
            "Epoch 7/100\n",
            "208/208 [==============================] - 2s 11ms/step - loss: 0.6784 - accuracy: 0.7260 - val_loss: 0.6799 - val_accuracy: 0.6889\n",
            "\n",
            "Epoch 00007: val_loss improved from 0.77438 to 0.67986, saving model to weights.best.hdf5\n",
            "Epoch 8/100\n",
            "208/208 [==============================] - 2s 11ms/step - loss: 0.5324 - accuracy: 0.8125 - val_loss: 0.5964 - val_accuracy: 0.8000\n",
            "\n",
            "Epoch 00008: val_loss improved from 0.67986 to 0.59640, saving model to weights.best.hdf5\n",
            "Epoch 9/100\n",
            "208/208 [==============================] - 2s 11ms/step - loss: 0.3948 - accuracy: 0.8990 - val_loss: 0.4878 - val_accuracy: 0.8000\n",
            "\n",
            "Epoch 00009: val_loss improved from 0.59640 to 0.48777, saving model to weights.best.hdf5\n",
            "Epoch 10/100\n",
            "208/208 [==============================] - 2s 11ms/step - loss: 0.2827 - accuracy: 0.9279 - val_loss: 0.4518 - val_accuracy: 0.8111\n",
            "\n",
            "Epoch 00010: val_loss improved from 0.48777 to 0.45177, saving model to weights.best.hdf5\n",
            "Epoch 11/100\n",
            "208/208 [==============================] - 2s 11ms/step - loss: 0.2502 - accuracy: 0.9279 - val_loss: 0.3979 - val_accuracy: 0.8111\n",
            "\n",
            "Epoch 00011: val_loss improved from 0.45177 to 0.39788, saving model to weights.best.hdf5\n",
            "Epoch 12/100\n",
            "208/208 [==============================] - 2s 11ms/step - loss: 0.2108 - accuracy: 0.9231 - val_loss: 0.3951 - val_accuracy: 0.8556\n",
            "\n",
            "Epoch 00012: val_loss improved from 0.39788 to 0.39511, saving model to weights.best.hdf5\n",
            "Epoch 13/100\n",
            "208/208 [==============================] - 2s 11ms/step - loss: 0.1176 - accuracy: 0.9615 - val_loss: 0.3515 - val_accuracy: 0.8444\n",
            "\n",
            "Epoch 00013: val_loss improved from 0.39511 to 0.35153, saving model to weights.best.hdf5\n",
            "Epoch 14/100\n",
            "208/208 [==============================] - 2s 11ms/step - loss: 0.0711 - accuracy: 0.9856 - val_loss: 0.3364 - val_accuracy: 0.8556\n",
            "\n",
            "Epoch 00014: val_loss improved from 0.35153 to 0.33637, saving model to weights.best.hdf5\n",
            "Epoch 15/100\n",
            "208/208 [==============================] - 2s 11ms/step - loss: 0.0510 - accuracy: 0.9904 - val_loss: 0.3873 - val_accuracy: 0.8556\n",
            "\n",
            "Epoch 00015: val_loss did not improve from 0.33637\n",
            "Epoch 16/100\n",
            "208/208 [==============================] - 2s 11ms/step - loss: 0.0533 - accuracy: 0.9856 - val_loss: 0.3972 - val_accuracy: 0.8444\n",
            "\n",
            "Epoch 00016: val_loss did not improve from 0.33637\n",
            "Epoch 17/100\n",
            "208/208 [==============================] - 2s 11ms/step - loss: 0.0361 - accuracy: 0.9904 - val_loss: 0.3531 - val_accuracy: 0.8778\n",
            "\n",
            "Epoch 00017: val_loss did not improve from 0.33637\n",
            "Epoch 18/100\n",
            "208/208 [==============================] - 2s 11ms/step - loss: 0.0520 - accuracy: 0.9856 - val_loss: 0.3869 - val_accuracy: 0.8444\n",
            "\n",
            "Epoch 00018: val_loss did not improve from 0.33637\n",
            "Epoch 19/100\n",
            "208/208 [==============================] - 2s 11ms/step - loss: 0.0257 - accuracy: 0.9904 - val_loss: 0.3629 - val_accuracy: 0.8667\n",
            "\n",
            "Epoch 00019: val_loss did not improve from 0.33637\n",
            "Epoch 20/100\n",
            "208/208 [==============================] - 2s 11ms/step - loss: 0.0252 - accuracy: 0.9952 - val_loss: 0.3518 - val_accuracy: 0.8778\n",
            "\n",
            "Epoch 00020: val_loss did not improve from 0.33637\n",
            "Epoch 21/100\n",
            "208/208 [==============================] - 2s 11ms/step - loss: 0.0245 - accuracy: 0.9952 - val_loss: 0.3947 - val_accuracy: 0.8444\n",
            "\n",
            "Epoch 00021: val_loss did not improve from 0.33637\n",
            "Epoch 22/100\n",
            "208/208 [==============================] - 2s 11ms/step - loss: 0.0213 - accuracy: 0.9904 - val_loss: 0.4290 - val_accuracy: 0.8444\n",
            "\n",
            "Epoch 00022: val_loss did not improve from 0.33637\n",
            "Epoch 23/100\n",
            "208/208 [==============================] - 2s 11ms/step - loss: 0.0188 - accuracy: 1.0000 - val_loss: 0.3873 - val_accuracy: 0.8556\n",
            "\n",
            "Epoch 00023: val_loss did not improve from 0.33637\n",
            "Epoch 24/100\n",
            "208/208 [==============================] - 2s 11ms/step - loss: 0.0245 - accuracy: 0.9904 - val_loss: 0.4354 - val_accuracy: 0.8444\n",
            "\n",
            "Epoch 00024: val_loss did not improve from 0.33637\n",
            "Epoch 25/100\n",
            "208/208 [==============================] - 2s 11ms/step - loss: 0.0148 - accuracy: 0.9952 - val_loss: 0.4456 - val_accuracy: 0.8444\n",
            "\n",
            "Epoch 00025: val_loss did not improve from 0.33637\n",
            "Epoch 26/100\n",
            "208/208 [==============================] - 2s 11ms/step - loss: 0.0108 - accuracy: 1.0000 - val_loss: 0.4009 - val_accuracy: 0.8556\n",
            "\n",
            "Epoch 00026: val_loss did not improve from 0.33637\n",
            "Epoch 27/100\n",
            "208/208 [==============================] - 2s 11ms/step - loss: 0.0117 - accuracy: 0.9952 - val_loss: 0.4091 - val_accuracy: 0.8556\n",
            "\n",
            "Epoch 00027: val_loss did not improve from 0.33637\n",
            "Epoch 28/100\n",
            "208/208 [==============================] - 2s 11ms/step - loss: 0.0102 - accuracy: 1.0000 - val_loss: 0.4975 - val_accuracy: 0.8444\n",
            "\n",
            "Epoch 00028: val_loss did not improve from 0.33637\n",
            "Epoch 29/100\n",
            "208/208 [==============================] - 2s 11ms/step - loss: 0.0251 - accuracy: 0.9904 - val_loss: 0.3888 - val_accuracy: 0.8778\n",
            "\n",
            "Epoch 00029: val_loss did not improve from 0.33637\n",
            "Epoch 30/100\n",
            "208/208 [==============================] - 2s 11ms/step - loss: 0.0180 - accuracy: 0.9904 - val_loss: 0.5296 - val_accuracy: 0.8444\n",
            "\n",
            "Epoch 00030: val_loss did not improve from 0.33637\n",
            "Epoch 31/100\n",
            "208/208 [==============================] - 2s 11ms/step - loss: 0.0379 - accuracy: 0.9952 - val_loss: 0.4415 - val_accuracy: 0.8444\n",
            "\n",
            "Epoch 00031: val_loss did not improve from 0.33637\n",
            "Epoch 32/100\n",
            "208/208 [==============================] - 2s 11ms/step - loss: 0.0248 - accuracy: 0.9856 - val_loss: 0.3733 - val_accuracy: 0.8778\n",
            "\n",
            "Epoch 00032: val_loss did not improve from 0.33637\n",
            "Epoch 33/100\n",
            "208/208 [==============================] - 2s 11ms/step - loss: 0.0185 - accuracy: 0.9952 - val_loss: 0.4526 - val_accuracy: 0.8556\n",
            "\n",
            "Epoch 00033: val_loss did not improve from 0.33637\n",
            "Epoch 34/100\n",
            "208/208 [==============================] - 2s 11ms/step - loss: 0.0167 - accuracy: 0.9952 - val_loss: 0.4439 - val_accuracy: 0.8556\n",
            "\n",
            "Epoch 00034: val_loss did not improve from 0.33637\n",
            "Epoch 35/100\n",
            "208/208 [==============================] - 2s 11ms/step - loss: 0.0135 - accuracy: 0.9952 - val_loss: 0.3671 - val_accuracy: 0.9000\n",
            "\n",
            "Epoch 00035: val_loss did not improve from 0.33637\n",
            "Epoch 36/100\n",
            "208/208 [==============================] - 2s 11ms/step - loss: 0.0468 - accuracy: 0.9904 - val_loss: 0.3901 - val_accuracy: 0.8667\n",
            "\n",
            "Epoch 00036: val_loss did not improve from 0.33637\n",
            "Epoch 37/100\n",
            "208/208 [==============================] - 2s 11ms/step - loss: 0.0053 - accuracy: 1.0000 - val_loss: 0.3712 - val_accuracy: 0.8889\n",
            "\n",
            "Epoch 00037: val_loss did not improve from 0.33637\n",
            "Epoch 38/100\n",
            "208/208 [==============================] - 2s 11ms/step - loss: 0.0074 - accuracy: 1.0000 - val_loss: 0.3949 - val_accuracy: 0.8667\n",
            "\n",
            "Epoch 00038: val_loss did not improve from 0.33637\n",
            "Epoch 39/100\n",
            "208/208 [==============================] - 2s 11ms/step - loss: 0.0121 - accuracy: 1.0000 - val_loss: 0.3968 - val_accuracy: 0.8778\n",
            "\n",
            "Epoch 00039: val_loss did not improve from 0.33637\n",
            "Epoch 40/100\n",
            "208/208 [==============================] - 2s 11ms/step - loss: 0.0436 - accuracy: 0.9904 - val_loss: 0.4012 - val_accuracy: 0.8778\n",
            "\n",
            "Epoch 00040: val_loss did not improve from 0.33637\n",
            "Epoch 41/100\n",
            "208/208 [==============================] - 2s 11ms/step - loss: 0.0134 - accuracy: 0.9952 - val_loss: 0.3773 - val_accuracy: 0.9000\n",
            "\n",
            "Epoch 00041: val_loss did not improve from 0.33637\n",
            "Epoch 42/100\n",
            "208/208 [==============================] - 2s 11ms/step - loss: 0.0281 - accuracy: 0.9904 - val_loss: 0.3919 - val_accuracy: 0.8778\n",
            "\n",
            "Epoch 00042: val_loss did not improve from 0.33637\n",
            "Epoch 43/100\n",
            "208/208 [==============================] - 2s 11ms/step - loss: 0.0126 - accuracy: 0.9952 - val_loss: 0.4568 - val_accuracy: 0.8667\n",
            "\n",
            "Epoch 00043: val_loss did not improve from 0.33637\n",
            "Epoch 44/100\n",
            "208/208 [==============================] - 2s 11ms/step - loss: 0.0166 - accuracy: 0.9952 - val_loss: 0.4913 - val_accuracy: 0.8556\n",
            "\n",
            "Epoch 00044: val_loss did not improve from 0.33637\n",
            "Epoch 45/100\n",
            "208/208 [==============================] - 2s 11ms/step - loss: 0.0169 - accuracy: 0.9952 - val_loss: 0.4481 - val_accuracy: 0.8556\n",
            "\n",
            "Epoch 00045: val_loss did not improve from 0.33637\n",
            "Epoch 46/100\n",
            "208/208 [==============================] - 2s 11ms/step - loss: 0.0142 - accuracy: 0.9952 - val_loss: 0.3869 - val_accuracy: 0.9000\n",
            "\n",
            "Epoch 00046: val_loss did not improve from 0.33637\n",
            "Epoch 47/100\n",
            "208/208 [==============================] - 2s 11ms/step - loss: 0.0184 - accuracy: 0.9952 - val_loss: 0.3887 - val_accuracy: 0.9000\n",
            "\n",
            "Epoch 00047: val_loss did not improve from 0.33637\n",
            "Epoch 48/100\n",
            "208/208 [==============================] - 2s 11ms/step - loss: 0.0177 - accuracy: 0.9952 - val_loss: 0.4696 - val_accuracy: 0.8556\n",
            "\n",
            "Epoch 00048: val_loss did not improve from 0.33637\n",
            "Epoch 49/100\n",
            "208/208 [==============================] - 2s 11ms/step - loss: 0.0360 - accuracy: 0.9904 - val_loss: 0.5459 - val_accuracy: 0.8333\n",
            "\n",
            "Epoch 00049: val_loss did not improve from 0.33637\n",
            "Epoch 50/100\n",
            "208/208 [==============================] - 2s 11ms/step - loss: 0.0293 - accuracy: 0.9904 - val_loss: 0.3966 - val_accuracy: 0.8778\n",
            "\n",
            "Epoch 00050: val_loss did not improve from 0.33637\n",
            "Epoch 51/100\n",
            "208/208 [==============================] - 2s 11ms/step - loss: 0.0116 - accuracy: 0.9952 - val_loss: 0.3879 - val_accuracy: 0.9000\n",
            "\n",
            "Epoch 00051: val_loss did not improve from 0.33637\n",
            "Epoch 52/100\n",
            "208/208 [==============================] - 2s 11ms/step - loss: 0.0114 - accuracy: 0.9952 - val_loss: 0.4167 - val_accuracy: 0.8667\n",
            "\n",
            "Epoch 00052: val_loss did not improve from 0.33637\n",
            "Epoch 53/100\n",
            "208/208 [==============================] - 2s 11ms/step - loss: 0.0087 - accuracy: 1.0000 - val_loss: 0.4582 - val_accuracy: 0.8444\n",
            "\n",
            "Epoch 00053: val_loss did not improve from 0.33637\n",
            "Epoch 54/100\n",
            "208/208 [==============================] - 2s 11ms/step - loss: 0.0071 - accuracy: 1.0000 - val_loss: 0.4681 - val_accuracy: 0.8444\n",
            "\n",
            "Epoch 00054: val_loss did not improve from 0.33637\n",
            "Epoch 55/100\n",
            "208/208 [==============================] - 2s 11ms/step - loss: 0.0092 - accuracy: 1.0000 - val_loss: 0.4910 - val_accuracy: 0.8444\n",
            "\n",
            "Epoch 00055: val_loss did not improve from 0.33637\n",
            "Epoch 56/100\n",
            "208/208 [==============================] - 2s 11ms/step - loss: 0.0148 - accuracy: 0.9952 - val_loss: 0.4384 - val_accuracy: 0.8667\n",
            "\n",
            "Epoch 00056: val_loss did not improve from 0.33637\n",
            "Epoch 57/100\n",
            "208/208 [==============================] - 2s 11ms/step - loss: 0.0072 - accuracy: 1.0000 - val_loss: 0.4473 - val_accuracy: 0.8667\n",
            "\n",
            "Epoch 00057: val_loss did not improve from 0.33637\n",
            "Epoch 58/100\n",
            "208/208 [==============================] - 2s 12ms/step - loss: 0.0115 - accuracy: 0.9952 - val_loss: 0.4128 - val_accuracy: 0.8889\n",
            "\n",
            "Epoch 00058: val_loss did not improve from 0.33637\n",
            "Epoch 59/100\n",
            "208/208 [==============================] - 2s 11ms/step - loss: 0.0117 - accuracy: 0.9904 - val_loss: 0.4131 - val_accuracy: 0.9000\n",
            "\n",
            "Epoch 00059: val_loss did not improve from 0.33637\n",
            "Epoch 60/100\n",
            "208/208 [==============================] - 2s 11ms/step - loss: 0.0140 - accuracy: 0.9952 - val_loss: 0.4578 - val_accuracy: 0.8667\n",
            "\n",
            "Epoch 00060: val_loss did not improve from 0.33637\n",
            "Epoch 61/100\n",
            "208/208 [==============================] - 2s 11ms/step - loss: 0.0168 - accuracy: 0.9952 - val_loss: 0.5076 - val_accuracy: 0.8556\n",
            "\n",
            "Epoch 00061: val_loss did not improve from 0.33637\n",
            "Epoch 62/100\n",
            "208/208 [==============================] - 2s 11ms/step - loss: 0.0052 - accuracy: 1.0000 - val_loss: 0.5411 - val_accuracy: 0.8444\n",
            "\n",
            "Epoch 00062: val_loss did not improve from 0.33637\n",
            "Epoch 63/100\n",
            "208/208 [==============================] - 2s 11ms/step - loss: 0.0058 - accuracy: 1.0000 - val_loss: 0.5305 - val_accuracy: 0.8444\n",
            "\n",
            "Epoch 00063: val_loss did not improve from 0.33637\n",
            "Epoch 64/100\n",
            "208/208 [==============================] - 2s 12ms/step - loss: 0.0097 - accuracy: 0.9952 - val_loss: 0.5086 - val_accuracy: 0.8556\n",
            "\n",
            "Epoch 00064: val_loss did not improve from 0.33637\n",
            "Epoch 65/100\n",
            "208/208 [==============================] - 2s 11ms/step - loss: 0.0125 - accuracy: 0.9952 - val_loss: 0.4586 - val_accuracy: 0.8667\n",
            "\n",
            "Epoch 00065: val_loss did not improve from 0.33637\n",
            "Epoch 66/100\n",
            "208/208 [==============================] - 2s 11ms/step - loss: 0.0168 - accuracy: 0.9904 - val_loss: 0.4566 - val_accuracy: 0.8667\n",
            "\n",
            "Epoch 00066: val_loss did not improve from 0.33637\n",
            "Epoch 67/100\n",
            "208/208 [==============================] - 2s 11ms/step - loss: 0.0124 - accuracy: 0.9952 - val_loss: 0.4901 - val_accuracy: 0.8667\n",
            "\n",
            "Epoch 00067: val_loss did not improve from 0.33637\n",
            "Epoch 68/100\n",
            "208/208 [==============================] - 2s 11ms/step - loss: 0.0129 - accuracy: 0.9904 - val_loss: 0.4676 - val_accuracy: 0.8667\n",
            "\n",
            "Epoch 00068: val_loss did not improve from 0.33637\n",
            "Epoch 69/100\n",
            "208/208 [==============================] - 2s 11ms/step - loss: 0.0139 - accuracy: 0.9952 - val_loss: 0.4174 - val_accuracy: 0.8778\n",
            "\n",
            "Epoch 00069: val_loss did not improve from 0.33637\n",
            "Epoch 70/100\n",
            "208/208 [==============================] - 2s 11ms/step - loss: 0.0211 - accuracy: 0.9952 - val_loss: 0.3999 - val_accuracy: 0.8889\n",
            "\n",
            "Epoch 00070: val_loss did not improve from 0.33637\n",
            "Epoch 71/100\n",
            "208/208 [==============================] - 2s 11ms/step - loss: 0.0056 - accuracy: 1.0000 - val_loss: 0.3997 - val_accuracy: 0.8889\n",
            "\n",
            "Epoch 00071: val_loss did not improve from 0.33637\n",
            "Epoch 72/100\n",
            "208/208 [==============================] - 2s 11ms/step - loss: 0.0105 - accuracy: 0.9952 - val_loss: 0.4398 - val_accuracy: 0.8556\n",
            "\n",
            "Epoch 00072: val_loss did not improve from 0.33637\n",
            "Epoch 73/100\n",
            "208/208 [==============================] - 2s 11ms/step - loss: 0.0139 - accuracy: 0.9952 - val_loss: 0.5263 - val_accuracy: 0.8556\n",
            "\n",
            "Epoch 00073: val_loss did not improve from 0.33637\n",
            "Epoch 74/100\n",
            "208/208 [==============================] - 2s 11ms/step - loss: 0.0104 - accuracy: 0.9952 - val_loss: 0.5197 - val_accuracy: 0.8556\n",
            "\n",
            "Epoch 00074: val_loss did not improve from 0.33637\n",
            "Epoch 75/100\n",
            "208/208 [==============================] - 2s 11ms/step - loss: 0.0078 - accuracy: 0.9952 - val_loss: 0.4578 - val_accuracy: 0.8667\n",
            "\n",
            "Epoch 00075: val_loss did not improve from 0.33637\n",
            "Epoch 76/100\n",
            "208/208 [==============================] - 2s 11ms/step - loss: 0.0124 - accuracy: 0.9952 - val_loss: 0.4445 - val_accuracy: 0.8667\n",
            "\n",
            "Epoch 00076: val_loss did not improve from 0.33637\n",
            "Epoch 77/100\n",
            "208/208 [==============================] - 2s 11ms/step - loss: 0.0145 - accuracy: 0.9952 - val_loss: 0.4258 - val_accuracy: 0.8889\n",
            "\n",
            "Epoch 00077: val_loss did not improve from 0.33637\n",
            "Epoch 78/100\n",
            "208/208 [==============================] - 2s 11ms/step - loss: 0.0042 - accuracy: 1.0000 - val_loss: 0.4320 - val_accuracy: 0.8889\n",
            "\n",
            "Epoch 00078: val_loss did not improve from 0.33637\n",
            "Epoch 79/100\n",
            "208/208 [==============================] - 2s 11ms/step - loss: 0.0160 - accuracy: 0.9904 - val_loss: 0.4473 - val_accuracy: 0.8778\n",
            "\n",
            "Epoch 00079: val_loss did not improve from 0.33637\n",
            "Epoch 80/100\n",
            "208/208 [==============================] - 2s 11ms/step - loss: 0.0168 - accuracy: 0.9904 - val_loss: 0.4328 - val_accuracy: 0.8889\n",
            "\n",
            "Epoch 00080: val_loss did not improve from 0.33637\n",
            "Epoch 81/100\n",
            "208/208 [==============================] - 2s 11ms/step - loss: 0.0097 - accuracy: 0.9952 - val_loss: 0.4433 - val_accuracy: 0.8889\n",
            "\n",
            "Epoch 00081: val_loss did not improve from 0.33637\n",
            "Epoch 82/100\n",
            "208/208 [==============================] - 2s 11ms/step - loss: 0.0127 - accuracy: 0.9952 - val_loss: 0.4742 - val_accuracy: 0.8667\n",
            "\n",
            "Epoch 00082: val_loss did not improve from 0.33637\n",
            "Epoch 83/100\n",
            "208/208 [==============================] - 2s 11ms/step - loss: 0.0163 - accuracy: 0.9904 - val_loss: 0.5212 - val_accuracy: 0.8556\n",
            "\n",
            "Epoch 00083: val_loss did not improve from 0.33637\n",
            "Epoch 84/100\n",
            "208/208 [==============================] - 2s 11ms/step - loss: 0.0063 - accuracy: 1.0000 - val_loss: 0.4709 - val_accuracy: 0.8667\n",
            "\n",
            "Epoch 00084: val_loss did not improve from 0.33637\n",
            "Epoch 85/100\n",
            "208/208 [==============================] - 2s 11ms/step - loss: 0.0079 - accuracy: 0.9952 - val_loss: 0.4671 - val_accuracy: 0.8667\n",
            "\n",
            "Epoch 00085: val_loss did not improve from 0.33637\n",
            "Epoch 86/100\n",
            "208/208 [==============================] - 2s 11ms/step - loss: 0.0133 - accuracy: 0.9952 - val_loss: 0.5042 - val_accuracy: 0.8556\n",
            "\n",
            "Epoch 00086: val_loss did not improve from 0.33637\n",
            "Epoch 87/100\n",
            "208/208 [==============================] - 2s 11ms/step - loss: 0.0074 - accuracy: 0.9952 - val_loss: 0.4649 - val_accuracy: 0.8667\n",
            "\n",
            "Epoch 00087: val_loss did not improve from 0.33637\n",
            "Epoch 88/100\n",
            "208/208 [==============================] - 2s 11ms/step - loss: 0.0024 - accuracy: 1.0000 - val_loss: 0.4486 - val_accuracy: 0.8778\n",
            "\n",
            "Epoch 00088: val_loss did not improve from 0.33637\n",
            "Epoch 89/100\n",
            "208/208 [==============================] - 2s 11ms/step - loss: 0.0214 - accuracy: 0.9952 - val_loss: 0.4370 - val_accuracy: 0.8889\n",
            "\n",
            "Epoch 00089: val_loss did not improve from 0.33637\n",
            "Epoch 90/100\n",
            "208/208 [==============================] - 2s 11ms/step - loss: 0.0048 - accuracy: 1.0000 - val_loss: 0.4586 - val_accuracy: 0.8667\n",
            "\n",
            "Epoch 00090: val_loss did not improve from 0.33637\n",
            "Epoch 91/100\n",
            "208/208 [==============================] - 2s 11ms/step - loss: 0.0156 - accuracy: 0.9904 - val_loss: 0.4562 - val_accuracy: 0.8556\n",
            "\n",
            "Epoch 00091: val_loss did not improve from 0.33637\n",
            "Epoch 92/100\n",
            "208/208 [==============================] - 2s 11ms/step - loss: 0.0115 - accuracy: 0.9904 - val_loss: 0.4298 - val_accuracy: 0.8889\n",
            "\n",
            "Epoch 00092: val_loss did not improve from 0.33637\n",
            "Epoch 93/100\n",
            "208/208 [==============================] - 2s 11ms/step - loss: 0.0146 - accuracy: 0.9952 - val_loss: 0.4582 - val_accuracy: 0.8556\n",
            "\n",
            "Epoch 00093: val_loss did not improve from 0.33637\n",
            "Epoch 94/100\n",
            "208/208 [==============================] - 2s 11ms/step - loss: 0.0071 - accuracy: 1.0000 - val_loss: 0.4814 - val_accuracy: 0.8667\n",
            "\n",
            "Epoch 00094: val_loss did not improve from 0.33637\n",
            "Epoch 95/100\n",
            "208/208 [==============================] - 2s 11ms/step - loss: 0.0173 - accuracy: 0.9904 - val_loss: 0.4605 - val_accuracy: 0.8667\n",
            "\n",
            "Epoch 00095: val_loss did not improve from 0.33637\n",
            "Epoch 96/100\n",
            "208/208 [==============================] - 2s 11ms/step - loss: 0.0067 - accuracy: 0.9952 - val_loss: 0.4607 - val_accuracy: 0.8667\n",
            "\n",
            "Epoch 00096: val_loss did not improve from 0.33637\n",
            "Epoch 97/100\n",
            "208/208 [==============================] - 2s 11ms/step - loss: 0.0048 - accuracy: 1.0000 - val_loss: 0.4702 - val_accuracy: 0.8556\n",
            "\n",
            "Epoch 00097: val_loss did not improve from 0.33637\n",
            "Epoch 98/100\n",
            "208/208 [==============================] - 2s 11ms/step - loss: 0.0069 - accuracy: 0.9952 - val_loss: 0.4814 - val_accuracy: 0.8556\n",
            "\n",
            "Epoch 00098: val_loss did not improve from 0.33637\n",
            "Epoch 99/100\n",
            "208/208 [==============================] - 2s 11ms/step - loss: 0.0179 - accuracy: 0.9904 - val_loss: 0.4663 - val_accuracy: 0.8667\n",
            "\n",
            "Epoch 00099: val_loss did not improve from 0.33637\n",
            "Epoch 100/100\n",
            "208/208 [==============================] - 2s 11ms/step - loss: 0.0229 - accuracy: 0.9904 - val_loss: 0.5095 - val_accuracy: 0.8667\n",
            "\n",
            "Epoch 00100: val_loss did not improve from 0.33637\n"
          ],
          "name": "stdout"
        }
      ]
    },
    {
      "cell_type": "code",
      "metadata": {
        "id": "l1Ne9QRudiyU",
        "colab_type": "code",
        "colab": {
          "base_uri": "https://localhost:8080/",
          "height": 1000
        },
        "outputId": "8c462b3b-f64d-43d9-95d1-c500798b8743"
      },
      "source": [
        "history1 = model.fit(train1, b_train, epochs=100, validation_data=(A_valid, b_valid), class_weight=class_weights, callbacks=callbacks_list)"
      ],
      "execution_count": null,
      "outputs": [
        {
          "output_type": "stream",
          "text": [
            "Train on 238 samples, validate on 60 samples\n",
            "Epoch 1/100\n",
            "238/238 [==============================] - 3s 11ms/step - loss: 0.1362 - accuracy: 0.9496 - val_loss: 0.1606 - val_accuracy: 0.9333\n",
            "\n",
            "Epoch 00001: val_loss improved from 0.33637 to 0.16056, saving model to weights.best.hdf5\n",
            "Epoch 2/100\n",
            "238/238 [==============================] - 3s 11ms/step - loss: 0.0649 - accuracy: 0.9874 - val_loss: 0.1022 - val_accuracy: 0.9500\n",
            "\n",
            "Epoch 00002: val_loss improved from 0.16056 to 0.10215, saving model to weights.best.hdf5\n",
            "Epoch 3/100\n",
            "238/238 [==============================] - 3s 11ms/step - loss: 0.0406 - accuracy: 0.9916 - val_loss: 0.1389 - val_accuracy: 0.9500\n",
            "\n",
            "Epoch 00003: val_loss did not improve from 0.10215\n",
            "Epoch 4/100\n",
            "238/238 [==============================] - 3s 11ms/step - loss: 0.0241 - accuracy: 0.9916 - val_loss: 0.1068 - val_accuracy: 0.9500\n",
            "\n",
            "Epoch 00004: val_loss did not improve from 0.10215\n",
            "Epoch 5/100\n",
            "238/238 [==============================] - 3s 11ms/step - loss: 0.0211 - accuracy: 0.9916 - val_loss: 0.1121 - val_accuracy: 0.9500\n",
            "\n",
            "Epoch 00005: val_loss did not improve from 0.10215\n",
            "Epoch 6/100\n",
            "238/238 [==============================] - 2s 10ms/step - loss: 0.0195 - accuracy: 0.9916 - val_loss: 0.2155 - val_accuracy: 0.9667\n",
            "\n",
            "Epoch 00006: val_loss did not improve from 0.10215\n",
            "Epoch 7/100\n",
            "238/238 [==============================] - 3s 11ms/step - loss: 0.0390 - accuracy: 0.9916 - val_loss: 0.1300 - val_accuracy: 0.9667\n",
            "\n",
            "Epoch 00007: val_loss did not improve from 0.10215\n",
            "Epoch 8/100\n",
            "238/238 [==============================] - 3s 11ms/step - loss: 0.0112 - accuracy: 0.9958 - val_loss: 0.1846 - val_accuracy: 0.9333\n",
            "\n",
            "Epoch 00008: val_loss did not improve from 0.10215\n",
            "Epoch 9/100\n",
            "238/238 [==============================] - 3s 11ms/step - loss: 0.0266 - accuracy: 0.9916 - val_loss: 0.2015 - val_accuracy: 0.9500\n",
            "\n",
            "Epoch 00009: val_loss did not improve from 0.10215\n",
            "Epoch 10/100\n",
            "238/238 [==============================] - 3s 11ms/step - loss: 0.0120 - accuracy: 1.0000 - val_loss: 0.2034 - val_accuracy: 0.9500\n",
            "\n",
            "Epoch 00010: val_loss did not improve from 0.10215\n",
            "Epoch 11/100\n",
            "238/238 [==============================] - 3s 11ms/step - loss: 0.0066 - accuracy: 1.0000 - val_loss: 0.1433 - val_accuracy: 0.9500\n",
            "\n",
            "Epoch 00011: val_loss did not improve from 0.10215\n",
            "Epoch 12/100\n",
            "238/238 [==============================] - 3s 11ms/step - loss: 0.0152 - accuracy: 0.9958 - val_loss: 0.1438 - val_accuracy: 0.9500\n",
            "\n",
            "Epoch 00012: val_loss did not improve from 0.10215\n",
            "Epoch 13/100\n",
            "238/238 [==============================] - 3s 11ms/step - loss: 0.0112 - accuracy: 0.9958 - val_loss: 0.1450 - val_accuracy: 0.9500\n",
            "\n",
            "Epoch 00013: val_loss did not improve from 0.10215\n",
            "Epoch 14/100\n",
            "238/238 [==============================] - 3s 11ms/step - loss: 0.0032 - accuracy: 1.0000 - val_loss: 0.1814 - val_accuracy: 0.9500\n",
            "\n",
            "Epoch 00014: val_loss did not improve from 0.10215\n",
            "Epoch 15/100\n",
            "238/238 [==============================] - 3s 11ms/step - loss: 0.0125 - accuracy: 0.9958 - val_loss: 0.1794 - val_accuracy: 0.9500\n",
            "\n",
            "Epoch 00015: val_loss did not improve from 0.10215\n",
            "Epoch 16/100\n",
            "238/238 [==============================] - 3s 11ms/step - loss: 0.0084 - accuracy: 0.9958 - val_loss: 0.1804 - val_accuracy: 0.9500\n",
            "\n",
            "Epoch 00016: val_loss did not improve from 0.10215\n",
            "Epoch 17/100\n",
            "238/238 [==============================] - 3s 11ms/step - loss: 0.0034 - accuracy: 1.0000 - val_loss: 0.1611 - val_accuracy: 0.9333\n",
            "\n",
            "Epoch 00017: val_loss did not improve from 0.10215\n",
            "Epoch 18/100\n",
            "238/238 [==============================] - 2s 10ms/step - loss: 0.0118 - accuracy: 0.9958 - val_loss: 0.1581 - val_accuracy: 0.9500\n",
            "\n",
            "Epoch 00018: val_loss did not improve from 0.10215\n",
            "Epoch 19/100\n",
            "238/238 [==============================] - 3s 11ms/step - loss: 0.0045 - accuracy: 0.9958 - val_loss: 0.1634 - val_accuracy: 0.9500\n",
            "\n",
            "Epoch 00019: val_loss did not improve from 0.10215\n",
            "Epoch 20/100\n",
            "238/238 [==============================] - 2s 11ms/step - loss: 0.0018 - accuracy: 1.0000 - val_loss: 0.1635 - val_accuracy: 0.9333\n",
            "\n",
            "Epoch 00020: val_loss did not improve from 0.10215\n",
            "Epoch 21/100\n",
            "238/238 [==============================] - 3s 11ms/step - loss: 0.0055 - accuracy: 1.0000 - val_loss: 0.1684 - val_accuracy: 0.9333\n",
            "\n",
            "Epoch 00021: val_loss did not improve from 0.10215\n",
            "Epoch 22/100\n",
            "238/238 [==============================] - 3s 11ms/step - loss: 0.0139 - accuracy: 0.9958 - val_loss: 0.1741 - val_accuracy: 0.9333\n",
            "\n",
            "Epoch 00022: val_loss did not improve from 0.10215\n",
            "Epoch 23/100\n",
            "238/238 [==============================] - 3s 11ms/step - loss: 0.0100 - accuracy: 0.9958 - val_loss: 0.1718 - val_accuracy: 0.9333\n",
            "\n",
            "Epoch 00023: val_loss did not improve from 0.10215\n",
            "Epoch 24/100\n",
            "238/238 [==============================] - 3s 11ms/step - loss: 0.0024 - accuracy: 1.0000 - val_loss: 0.1708 - val_accuracy: 0.9500\n",
            "\n",
            "Epoch 00024: val_loss did not improve from 0.10215\n",
            "Epoch 25/100\n",
            "238/238 [==============================] - 3s 11ms/step - loss: 0.0022 - accuracy: 1.0000 - val_loss: 0.1734 - val_accuracy: 0.9500\n",
            "\n",
            "Epoch 00025: val_loss did not improve from 0.10215\n",
            "Epoch 26/100\n",
            "238/238 [==============================] - 3s 11ms/step - loss: 0.0022 - accuracy: 1.0000 - val_loss: 0.1769 - val_accuracy: 0.9333\n",
            "\n",
            "Epoch 00026: val_loss did not improve from 0.10215\n",
            "Epoch 27/100\n",
            "238/238 [==============================] - 3s 11ms/step - loss: 0.0045 - accuracy: 1.0000 - val_loss: 0.1903 - val_accuracy: 0.9500\n",
            "\n",
            "Epoch 00027: val_loss did not improve from 0.10215\n",
            "Epoch 28/100\n",
            "238/238 [==============================] - 3s 11ms/step - loss: 0.0015 - accuracy: 1.0000 - val_loss: 0.1986 - val_accuracy: 0.9500\n",
            "\n",
            "Epoch 00028: val_loss did not improve from 0.10215\n",
            "Epoch 29/100\n",
            "238/238 [==============================] - 3s 11ms/step - loss: 0.0027 - accuracy: 1.0000 - val_loss: 0.1938 - val_accuracy: 0.9500\n",
            "\n",
            "Epoch 00029: val_loss did not improve from 0.10215\n",
            "Epoch 30/100\n",
            "238/238 [==============================] - 3s 11ms/step - loss: 0.0011 - accuracy: 1.0000 - val_loss: 0.1893 - val_accuracy: 0.9500\n",
            "\n",
            "Epoch 00030: val_loss did not improve from 0.10215\n",
            "Epoch 31/100\n",
            "238/238 [==============================] - 3s 11ms/step - loss: 0.0062 - accuracy: 0.9958 - val_loss: 0.1912 - val_accuracy: 0.9500\n",
            "\n",
            "Epoch 00031: val_loss did not improve from 0.10215\n",
            "Epoch 32/100\n",
            "238/238 [==============================] - 3s 11ms/step - loss: 0.0013 - accuracy: 1.0000 - val_loss: 0.1939 - val_accuracy: 0.9500\n",
            "\n",
            "Epoch 00032: val_loss did not improve from 0.10215\n",
            "Epoch 33/100\n",
            "238/238 [==============================] - 3s 11ms/step - loss: 0.0199 - accuracy: 0.9916 - val_loss: 0.1954 - val_accuracy: 0.9500\n",
            "\n",
            "Epoch 00033: val_loss did not improve from 0.10215\n",
            "Epoch 34/100\n",
            "238/238 [==============================] - 3s 11ms/step - loss: 0.0107 - accuracy: 0.9958 - val_loss: 0.1948 - val_accuracy: 0.9500\n",
            "\n",
            "Epoch 00034: val_loss did not improve from 0.10215\n",
            "Epoch 35/100\n",
            "238/238 [==============================] - 3s 11ms/step - loss: 0.0030 - accuracy: 1.0000 - val_loss: 0.2286 - val_accuracy: 0.9500\n",
            "\n",
            "Epoch 00035: val_loss did not improve from 0.10215\n",
            "Epoch 36/100\n",
            "238/238 [==============================] - 3s 11ms/step - loss: 0.0211 - accuracy: 0.9958 - val_loss: 0.1989 - val_accuracy: 0.9500\n",
            "\n",
            "Epoch 00036: val_loss did not improve from 0.10215\n",
            "Epoch 37/100\n",
            "238/238 [==============================] - 3s 11ms/step - loss: 0.0037 - accuracy: 1.0000 - val_loss: 0.2322 - val_accuracy: 0.9500\n",
            "\n",
            "Epoch 00037: val_loss did not improve from 0.10215\n",
            "Epoch 38/100\n",
            "238/238 [==============================] - 3s 11ms/step - loss: 0.0012 - accuracy: 1.0000 - val_loss: 0.2412 - val_accuracy: 0.9500\n",
            "\n",
            "Epoch 00038: val_loss did not improve from 0.10215\n",
            "Epoch 39/100\n",
            "238/238 [==============================] - 3s 11ms/step - loss: 0.0018 - accuracy: 1.0000 - val_loss: 0.2175 - val_accuracy: 0.9500\n",
            "\n",
            "Epoch 00039: val_loss did not improve from 0.10215\n",
            "Epoch 40/100\n",
            "238/238 [==============================] - 3s 11ms/step - loss: 8.4838e-04 - accuracy: 1.0000 - val_loss: 0.2055 - val_accuracy: 0.9333\n",
            "\n",
            "Epoch 00040: val_loss did not improve from 0.10215\n",
            "Epoch 41/100\n",
            "238/238 [==============================] - 3s 11ms/step - loss: 0.0010 - accuracy: 1.0000 - val_loss: 0.2032 - val_accuracy: 0.9333\n",
            "\n",
            "Epoch 00041: val_loss did not improve from 0.10215\n",
            "Epoch 42/100\n",
            "238/238 [==============================] - 3s 11ms/step - loss: 0.0013 - accuracy: 1.0000 - val_loss: 0.2022 - val_accuracy: 0.9500\n",
            "\n",
            "Epoch 00042: val_loss did not improve from 0.10215\n",
            "Epoch 43/100\n",
            "238/238 [==============================] - 3s 11ms/step - loss: 9.4684e-04 - accuracy: 1.0000 - val_loss: 0.2025 - val_accuracy: 0.9500\n",
            "\n",
            "Epoch 00043: val_loss did not improve from 0.10215\n",
            "Epoch 44/100\n",
            "238/238 [==============================] - 3s 11ms/step - loss: 9.8843e-04 - accuracy: 1.0000 - val_loss: 0.2013 - val_accuracy: 0.9500\n",
            "\n",
            "Epoch 00044: val_loss did not improve from 0.10215\n",
            "Epoch 45/100\n",
            "238/238 [==============================] - 3s 11ms/step - loss: 7.1797e-04 - accuracy: 1.0000 - val_loss: 0.2030 - val_accuracy: 0.9333\n",
            "\n",
            "Epoch 00045: val_loss did not improve from 0.10215\n",
            "Epoch 46/100\n",
            "238/238 [==============================] - 2s 10ms/step - loss: 5.0951e-04 - accuracy: 1.0000 - val_loss: 0.2065 - val_accuracy: 0.9333\n",
            "\n",
            "Epoch 00046: val_loss did not improve from 0.10215\n",
            "Epoch 47/100\n",
            "238/238 [==============================] - 2s 10ms/step - loss: 6.5777e-04 - accuracy: 1.0000 - val_loss: 0.2084 - val_accuracy: 0.9333\n",
            "\n",
            "Epoch 00047: val_loss did not improve from 0.10215\n",
            "Epoch 48/100\n",
            "238/238 [==============================] - 3s 11ms/step - loss: 4.1031e-04 - accuracy: 1.0000 - val_loss: 0.2086 - val_accuracy: 0.9333\n",
            "\n",
            "Epoch 00048: val_loss did not improve from 0.10215\n",
            "Epoch 49/100\n",
            "238/238 [==============================] - 3s 11ms/step - loss: 5.4183e-04 - accuracy: 1.0000 - val_loss: 0.2082 - val_accuracy: 0.9333\n",
            "\n",
            "Epoch 00049: val_loss did not improve from 0.10215\n",
            "Epoch 50/100\n",
            "238/238 [==============================] - 3s 11ms/step - loss: 8.5111e-04 - accuracy: 1.0000 - val_loss: 0.2091 - val_accuracy: 0.9333\n",
            "\n",
            "Epoch 00050: val_loss did not improve from 0.10215\n",
            "Epoch 51/100\n",
            "238/238 [==============================] - 3s 11ms/step - loss: 5.1471e-04 - accuracy: 1.0000 - val_loss: 0.2122 - val_accuracy: 0.9333\n",
            "\n",
            "Epoch 00051: val_loss did not improve from 0.10215\n",
            "Epoch 52/100\n",
            "238/238 [==============================] - 3s 11ms/step - loss: 3.8538e-04 - accuracy: 1.0000 - val_loss: 0.2154 - val_accuracy: 0.9333\n",
            "\n",
            "Epoch 00052: val_loss did not improve from 0.10215\n",
            "Epoch 53/100\n",
            "238/238 [==============================] - 3s 11ms/step - loss: 6.9651e-04 - accuracy: 1.0000 - val_loss: 0.2170 - val_accuracy: 0.9333\n",
            "\n",
            "Epoch 00053: val_loss did not improve from 0.10215\n",
            "Epoch 54/100\n",
            "238/238 [==============================] - 3s 11ms/step - loss: 9.0271e-04 - accuracy: 1.0000 - val_loss: 0.2196 - val_accuracy: 0.9333\n",
            "\n",
            "Epoch 00054: val_loss did not improve from 0.10215\n",
            "Epoch 55/100\n",
            "238/238 [==============================] - 3s 11ms/step - loss: 4.5208e-04 - accuracy: 1.0000 - val_loss: 0.2231 - val_accuracy: 0.9333\n",
            "\n",
            "Epoch 00055: val_loss did not improve from 0.10215\n",
            "Epoch 56/100\n",
            "238/238 [==============================] - 3s 11ms/step - loss: 5.1558e-04 - accuracy: 1.0000 - val_loss: 0.2230 - val_accuracy: 0.9333\n",
            "\n",
            "Epoch 00056: val_loss did not improve from 0.10215\n",
            "Epoch 57/100\n",
            "238/238 [==============================] - 2s 10ms/step - loss: 0.0141 - accuracy: 0.9958 - val_loss: 0.2152 - val_accuracy: 0.9500\n",
            "\n",
            "Epoch 00057: val_loss did not improve from 0.10215\n",
            "Epoch 58/100\n",
            "238/238 [==============================] - 3s 11ms/step - loss: 0.0418 - accuracy: 0.9958 - val_loss: 0.3826 - val_accuracy: 0.9333\n",
            "\n",
            "Epoch 00058: val_loss did not improve from 0.10215\n",
            "Epoch 59/100\n",
            "238/238 [==============================] - 3s 11ms/step - loss: 0.0285 - accuracy: 0.9958 - val_loss: 0.2139 - val_accuracy: 0.9500\n",
            "\n",
            "Epoch 00059: val_loss did not improve from 0.10215\n",
            "Epoch 60/100\n",
            "238/238 [==============================] - 3s 11ms/step - loss: 0.0162 - accuracy: 0.9958 - val_loss: 0.2307 - val_accuracy: 0.9500\n",
            "\n",
            "Epoch 00060: val_loss did not improve from 0.10215\n",
            "Epoch 61/100\n",
            "238/238 [==============================] - 3s 11ms/step - loss: 0.0037 - accuracy: 1.0000 - val_loss: 0.1959 - val_accuracy: 0.9500\n",
            "\n",
            "Epoch 00061: val_loss did not improve from 0.10215\n",
            "Epoch 62/100\n",
            "238/238 [==============================] - 3s 11ms/step - loss: 0.0025 - accuracy: 1.0000 - val_loss: 0.2235 - val_accuracy: 0.9500\n",
            "\n",
            "Epoch 00062: val_loss did not improve from 0.10215\n",
            "Epoch 63/100\n",
            "238/238 [==============================] - 2s 11ms/step - loss: 0.0020 - accuracy: 1.0000 - val_loss: 0.2091 - val_accuracy: 0.9500\n",
            "\n",
            "Epoch 00063: val_loss did not improve from 0.10215\n",
            "Epoch 64/100\n",
            "238/238 [==============================] - 3s 11ms/step - loss: 0.0027 - accuracy: 1.0000 - val_loss: 0.1949 - val_accuracy: 0.9500\n",
            "\n",
            "Epoch 00064: val_loss did not improve from 0.10215\n",
            "Epoch 65/100\n",
            "238/238 [==============================] - 3s 11ms/step - loss: 0.0239 - accuracy: 0.9958 - val_loss: 0.2279 - val_accuracy: 0.9500\n",
            "\n",
            "Epoch 00065: val_loss did not improve from 0.10215\n",
            "Epoch 66/100\n",
            "238/238 [==============================] - 3s 11ms/step - loss: 0.0014 - accuracy: 1.0000 - val_loss: 0.2523 - val_accuracy: 0.9500\n",
            "\n",
            "Epoch 00066: val_loss did not improve from 0.10215\n",
            "Epoch 67/100\n",
            "238/238 [==============================] - 2s 10ms/step - loss: 0.0026 - accuracy: 1.0000 - val_loss: 0.2413 - val_accuracy: 0.9500\n",
            "\n",
            "Epoch 00067: val_loss did not improve from 0.10215\n",
            "Epoch 68/100\n",
            "238/238 [==============================] - 3s 11ms/step - loss: 0.0146 - accuracy: 0.9958 - val_loss: 0.2091 - val_accuracy: 0.9500\n",
            "\n",
            "Epoch 00068: val_loss did not improve from 0.10215\n",
            "Epoch 69/100\n",
            "238/238 [==============================] - 3s 11ms/step - loss: 0.0017 - accuracy: 1.0000 - val_loss: 0.2099 - val_accuracy: 0.9500\n",
            "\n",
            "Epoch 00069: val_loss did not improve from 0.10215\n",
            "Epoch 70/100\n",
            "238/238 [==============================] - 3s 11ms/step - loss: 0.0049 - accuracy: 0.9958 - val_loss: 0.2151 - val_accuracy: 0.9500\n",
            "\n",
            "Epoch 00070: val_loss did not improve from 0.10215\n",
            "Epoch 71/100\n",
            "238/238 [==============================] - 3s 11ms/step - loss: 5.3002e-04 - accuracy: 1.0000 - val_loss: 0.2215 - val_accuracy: 0.9500\n",
            "\n",
            "Epoch 00071: val_loss did not improve from 0.10215\n",
            "Epoch 72/100\n",
            "238/238 [==============================] - 3s 11ms/step - loss: 8.6450e-04 - accuracy: 1.0000 - val_loss: 0.2264 - val_accuracy: 0.9500\n",
            "\n",
            "Epoch 00072: val_loss did not improve from 0.10215\n",
            "Epoch 73/100\n",
            "238/238 [==============================] - 3s 11ms/step - loss: 0.0013 - accuracy: 1.0000 - val_loss: 0.2223 - val_accuracy: 0.9500\n",
            "\n",
            "Epoch 00073: val_loss did not improve from 0.10215\n",
            "Epoch 74/100\n",
            "238/238 [==============================] - 3s 11ms/step - loss: 4.0486e-04 - accuracy: 1.0000 - val_loss: 0.2225 - val_accuracy: 0.9500\n",
            "\n",
            "Epoch 00074: val_loss did not improve from 0.10215\n",
            "Epoch 75/100\n",
            "238/238 [==============================] - 3s 11ms/step - loss: 0.0051 - accuracy: 0.9958 - val_loss: 0.2433 - val_accuracy: 0.9500\n",
            "\n",
            "Epoch 00075: val_loss did not improve from 0.10215\n",
            "Epoch 76/100\n",
            "238/238 [==============================] - 3s 11ms/step - loss: 9.1578e-04 - accuracy: 1.0000 - val_loss: 0.2577 - val_accuracy: 0.9500\n",
            "\n",
            "Epoch 00076: val_loss did not improve from 0.10215\n",
            "Epoch 77/100\n",
            "238/238 [==============================] - 3s 11ms/step - loss: 0.0043 - accuracy: 0.9958 - val_loss: 0.2349 - val_accuracy: 0.9500\n",
            "\n",
            "Epoch 00077: val_loss did not improve from 0.10215\n",
            "Epoch 78/100\n",
            "238/238 [==============================] - 3s 11ms/step - loss: 4.4256e-04 - accuracy: 1.0000 - val_loss: 0.2278 - val_accuracy: 0.9500\n",
            "\n",
            "Epoch 00078: val_loss did not improve from 0.10215\n",
            "Epoch 79/100\n",
            "238/238 [==============================] - 3s 11ms/step - loss: 3.9226e-04 - accuracy: 1.0000 - val_loss: 0.2271 - val_accuracy: 0.9500\n",
            "\n",
            "Epoch 00079: val_loss did not improve from 0.10215\n",
            "Epoch 80/100\n",
            "238/238 [==============================] - 3s 11ms/step - loss: 3.4924e-04 - accuracy: 1.0000 - val_loss: 0.2283 - val_accuracy: 0.9500\n",
            "\n",
            "Epoch 00080: val_loss did not improve from 0.10215\n",
            "Epoch 81/100\n",
            "238/238 [==============================] - 3s 11ms/step - loss: 4.3740e-04 - accuracy: 1.0000 - val_loss: 0.2292 - val_accuracy: 0.9500\n",
            "\n",
            "Epoch 00081: val_loss did not improve from 0.10215\n",
            "Epoch 82/100\n",
            "238/238 [==============================] - 3s 11ms/step - loss: 6.7973e-04 - accuracy: 1.0000 - val_loss: 0.2306 - val_accuracy: 0.9500\n",
            "\n",
            "Epoch 00082: val_loss did not improve from 0.10215\n",
            "Epoch 83/100\n",
            "238/238 [==============================] - 3s 11ms/step - loss: 4.2885e-04 - accuracy: 1.0000 - val_loss: 0.2321 - val_accuracy: 0.9500\n",
            "\n",
            "Epoch 00083: val_loss did not improve from 0.10215\n",
            "Epoch 84/100\n",
            "238/238 [==============================] - 3s 11ms/step - loss: 2.3572e-04 - accuracy: 1.0000 - val_loss: 0.2315 - val_accuracy: 0.9500\n",
            "\n",
            "Epoch 00084: val_loss did not improve from 0.10215\n",
            "Epoch 85/100\n",
            "238/238 [==============================] - 3s 11ms/step - loss: 2.4388e-04 - accuracy: 1.0000 - val_loss: 0.2314 - val_accuracy: 0.9500\n",
            "\n",
            "Epoch 00085: val_loss did not improve from 0.10215\n",
            "Epoch 86/100\n",
            "238/238 [==============================] - 3s 11ms/step - loss: 3.6562e-04 - accuracy: 1.0000 - val_loss: 0.2316 - val_accuracy: 0.9500\n",
            "\n",
            "Epoch 00086: val_loss did not improve from 0.10215\n",
            "Epoch 87/100\n",
            "238/238 [==============================] - 3s 11ms/step - loss: 4.9566e-04 - accuracy: 1.0000 - val_loss: 0.2322 - val_accuracy: 0.9500\n",
            "\n",
            "Epoch 00087: val_loss did not improve from 0.10215\n",
            "Epoch 88/100\n",
            "238/238 [==============================] - 3s 11ms/step - loss: 1.6612e-04 - accuracy: 1.0000 - val_loss: 0.2327 - val_accuracy: 0.9500\n",
            "\n",
            "Epoch 00088: val_loss did not improve from 0.10215\n",
            "Epoch 89/100\n",
            "238/238 [==============================] - 3s 11ms/step - loss: 3.1989e-04 - accuracy: 1.0000 - val_loss: 0.2333 - val_accuracy: 0.9500\n",
            "\n",
            "Epoch 00089: val_loss did not improve from 0.10215\n",
            "Epoch 90/100\n",
            "238/238 [==============================] - 3s 11ms/step - loss: 2.2041e-04 - accuracy: 1.0000 - val_loss: 0.2340 - val_accuracy: 0.9500\n",
            "\n",
            "Epoch 00090: val_loss did not improve from 0.10215\n",
            "Epoch 91/100\n",
            "238/238 [==============================] - 3s 11ms/step - loss: 2.4061e-04 - accuracy: 1.0000 - val_loss: 0.2345 - val_accuracy: 0.9500\n",
            "\n",
            "Epoch 00091: val_loss did not improve from 0.10215\n",
            "Epoch 92/100\n",
            "238/238 [==============================] - 3s 11ms/step - loss: 2.8243e-04 - accuracy: 1.0000 - val_loss: 0.2350 - val_accuracy: 0.9500\n",
            "\n",
            "Epoch 00092: val_loss did not improve from 0.10215\n",
            "Epoch 93/100\n",
            "238/238 [==============================] - 3s 11ms/step - loss: 2.4744e-04 - accuracy: 1.0000 - val_loss: 0.2356 - val_accuracy: 0.9500\n",
            "\n",
            "Epoch 00093: val_loss did not improve from 0.10215\n",
            "Epoch 94/100\n",
            "238/238 [==============================] - 3s 11ms/step - loss: 1.9250e-04 - accuracy: 1.0000 - val_loss: 0.2361 - val_accuracy: 0.9500\n",
            "\n",
            "Epoch 00094: val_loss did not improve from 0.10215\n",
            "Epoch 95/100\n",
            "238/238 [==============================] - 3s 11ms/step - loss: 3.4468e-04 - accuracy: 1.0000 - val_loss: 0.2366 - val_accuracy: 0.9500\n",
            "\n",
            "Epoch 00095: val_loss did not improve from 0.10215\n",
            "Epoch 96/100\n",
            "238/238 [==============================] - 3s 11ms/step - loss: 1.8224e-04 - accuracy: 1.0000 - val_loss: 0.2369 - val_accuracy: 0.9500\n",
            "\n",
            "Epoch 00096: val_loss did not improve from 0.10215\n",
            "Epoch 97/100\n",
            "238/238 [==============================] - 3s 11ms/step - loss: 2.6138e-04 - accuracy: 1.0000 - val_loss: 0.2372 - val_accuracy: 0.9500\n",
            "\n",
            "Epoch 00097: val_loss did not improve from 0.10215\n",
            "Epoch 98/100\n",
            "238/238 [==============================] - 3s 11ms/step - loss: 1.8554e-04 - accuracy: 1.0000 - val_loss: 0.2375 - val_accuracy: 0.9500\n",
            "\n",
            "Epoch 00098: val_loss did not improve from 0.10215\n",
            "Epoch 99/100\n",
            "238/238 [==============================] - 3s 11ms/step - loss: 1.6786e-04 - accuracy: 1.0000 - val_loss: 0.2378 - val_accuracy: 0.9500\n",
            "\n",
            "Epoch 00099: val_loss did not improve from 0.10215\n",
            "Epoch 100/100\n",
            "238/238 [==============================] - 3s 11ms/step - loss: 2.2399e-04 - accuracy: 1.0000 - val_loss: 0.2382 - val_accuracy: 0.9500\n",
            "\n",
            "Epoch 00100: val_loss did not improve from 0.10215\n"
          ],
          "name": "stdout"
        }
      ]
    },
    {
      "cell_type": "code",
      "metadata": {
        "id": "cpAntYDedmfU",
        "colab_type": "code",
        "colab": {}
      },
      "source": [
        "model.load_weights(\"weights.best.hdf5\")"
      ],
      "execution_count": null,
      "outputs": []
    },
    {
      "cell_type": "code",
      "metadata": {
        "id": "aXHGgYRrfTwC",
        "colab_type": "code",
        "colab": {}
      },
      "source": [
        "model.compile(loss='categorical_crossentropy', optimizer='adam', metrics=['accuracy'])"
      ],
      "execution_count": null,
      "outputs": []
    },
    {
      "cell_type": "code",
      "metadata": {
        "id": "HoAIgzj-gTD5",
        "colab_type": "code",
        "colab": {}
      },
      "source": [
        "predictions = model.predict_classes(test_image)"
      ],
      "execution_count": null,
      "outputs": []
    },
    {
      "cell_type": "code",
      "metadata": {
        "id": "zbEuzXZagkeQ",
        "colab_type": "code",
        "colab": {}
      },
      "source": [
        "predictions1 = model.predict_classes(test_image1)"
      ],
      "execution_count": null,
      "outputs": []
    },
    {
      "cell_type": "code",
      "metadata": {
        "id": "tG0Hplwwgl5w",
        "colab_type": "code",
        "colab": {
          "base_uri": "https://localhost:8080/",
          "height": 50
        },
        "outputId": "eaddefb6-6308-4fc3-8822-2ba79bb378d1"
      },
      "source": [
        "print(\"Model 1: The screen time of JERRY is\", predictions[predictions==1].shape[0], \"seconds\")\n",
        "print(\"Model 1: The screen time of TOM is\", predictions[predictions==2].shape[0], \"seconds\")"
      ],
      "execution_count": null,
      "outputs": [
        {
          "output_type": "stream",
          "text": [
            "Model 1: The screen time of JERRY is 0 seconds\n",
            "Model 1: The screen time of TOM is 119 seconds\n"
          ],
          "name": "stdout"
        }
      ]
    },
    {
      "cell_type": "code",
      "metadata": {
        "id": "W8Le3ZIjgsOD",
        "colab_type": "code",
        "colab": {
          "base_uri": "https://localhost:8080/",
          "height": 50
        },
        "outputId": "a3928751-1680-46ad-bdf9-99291b9dc3d5"
      },
      "source": [
        "print(\"Model 2: The screen time of JERRY is\", predictions[predictions1==1].shape[0], \"seconds\")\n",
        "print(\"Model 2: The screen time of TOM is\", predictions[predictions1==2].shape[0], \"seconds\")"
      ],
      "execution_count": null,
      "outputs": [
        {
          "output_type": "stream",
          "text": [
            "Model 2: The screen time of JERRY is 0 seconds\n",
            "Model 2: The screen time of TOM is 119 seconds\n"
          ],
          "name": "stdout"
        }
      ]
    },
    {
      "cell_type": "code",
      "metadata": {
        "id": "5lNURhxQgufx",
        "colab_type": "code",
        "colab": {
          "base_uri": "https://localhost:8080/",
          "height": 640
        },
        "outputId": "e6410321-2e88-4b6d-87ae-517dd8284f4d"
      },
      "source": [
        "print(\"For model 1 with test_size=0.3 and random_state=42\\n\\nAccuracy : \")\n",
        "plt.plot(history.history['accuracy'])\n",
        "plt.plot(history.history['val_accuracy'])\n",
        "plt.title('model accuracy')\n",
        "plt.ylabel('accuracy')\n",
        "plt.xlabel('epoch')\n",
        "plt.legend(['train', 'test'], loc='upper left')\n",
        "plt.show()\n",
        "print(\"Loss : \")\n",
        "plt.plot(history.history['loss'])\n",
        "plt.plot(history.history['val_loss'])\n",
        "plt.title('model loss')\n",
        "plt.ylabel('loss')\n",
        "plt.xlabel('epoch')\n",
        "plt.legend(['train', 'test'], loc='upper left')\n",
        "plt.show()"
      ],
      "execution_count": null,
      "outputs": [
        {
          "output_type": "stream",
          "text": [
            "For model 1 with test_size=0.3 and random_state=42\n",
            "\n",
            "Accuracy : \n"
          ],
          "name": "stdout"
        },
        {
          "output_type": "display_data",
          "data": {
            "image/png": "[encoded data removed]",
            "text/plain": [
              "<Figure size 432x288 with 1 Axes>"
            ]
          },
          "metadata": {
            "tags": [],
            "needs_background": "light"
          }
        },
        {
          "output_type": "stream",
          "text": [
            "Loss : \n"
          ],
          "name": "stdout"
        },
        {
          "output_type": "display_data",
          "data": {
            "image/png": "[encoded data removed]",
            "text/plain": [
              "<Figure size 432x288 with 1 Axes>"
            ]
          },
          "metadata": {
            "tags": [],
            "needs_background": "light"
          }
        }
      ]
    },
    {
      "cell_type": "code",
      "metadata": {
        "id": "YSeGhW85jx7k",
        "colab_type": "code",
        "colab": {
          "base_uri": "https://localhost:8080/",
          "height": 623
        },
        "outputId": "14b72f51-afb5-4e5e-9802-367ba2c49ba9"
      },
      "source": [
        "print(\"For model 2 with test_size=0.2 and random_state=38\\nAccuracy : \")\n",
        "plt.plot(history1.history['accuracy'])\n",
        "plt.plot(history1.history['val_accuracy'])\n",
        "plt.title('model accuracy')\n",
        "plt.ylabel('accuracy')\n",
        "plt.xlabel('epoch')\n",
        "plt.legend(['train', 'test'], loc='upper left')\n",
        "plt.show()\n",
        "print(\"Loss : \")\n",
        "plt.plot(history1.history['loss'])\n",
        "plt.plot(history1.history['val_loss'])\n",
        "plt.title('model loss')\n",
        "plt.ylabel('loss')\n",
        "plt.xlabel('epoch')\n",
        "plt.legend(['train', 'test'], loc='upper left')\n",
        "plt.show()"
      ],
      "execution_count": null,
      "outputs": [
        {
          "output_type": "stream",
          "text": [
            "For model 2 with test_size=0.2 and random_state=38\n",
            "Accuracy : \n"
          ],
          "name": "stdout"
        },
        {
          "output_type": "display_data",
          "data": {
            "image/png": "[encoded data removed]",
            "text/plain": [
              "<Figure size 432x288 with 1 Axes>"
            ]
          },
          "metadata": {
            "tags": [],
            "needs_background": "light"
          }
        },
        {
          "output_type": "stream",
          "text": [
            "Loss : \n"
          ],
          "name": "stdout"
        },
        {
          "output_type": "display_data",
          "data": {
            "image/png": "[encoded data removed]",
            "text/plain": [
              "<Figure size 432x288 with 1 Axes>"
            ]
          },
          "metadata": {
            "tags": [],
            "needs_background": "light"
          }
        }
      ]
    },
    {
      "cell_type": "code",
      "metadata": {
        "id": "iZkI0Bw_t-zb",
        "colab_type": "code",
        "colab": {}
      },
      "source": [
        ""
      ],
      "execution_count": null,
      "outputs": []
    }
  ]
}